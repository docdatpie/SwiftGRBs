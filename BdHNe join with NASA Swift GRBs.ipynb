{
 "cells": [
  {
   "cell_type": "markdown",
   "metadata": {},
   "source": [
    "# Adding information to BdHNe table\n",
    "\n",
    "One of these days I published the online version of ICRANet Binary-driven Hyper-Novae table of Gamma-Ray Bursts (GRB) at the (BSDC/VO)[http://vo.bsdc.icranet.org] website; the table: http://vo.bsdc.icranet.org/bdhne/q/web/form.\n",
    "The (current) first version of the table contains exactly what is being published in the article (Ruffini et al, in preparation), which is:\n",
    "\n",
    "* GRB (id): the standard name for GRBs (*YYMMDD*[A-Z]);\n",
    "* Designation: as proposed by the authors of the article;\n",
    "* z: redshift;\n",
    "* E_iso: the energy computedby the authors after their model;\n",
    "* Instrument: observatory from where data was used;\n",
    "* GCN: the GCN corresponding to the event.\n",
    "\n",
    "What I'm going to do now is to add position (Right Ascension and Declination) and trigger time of those events.\n",
    "To do so, I should retrieve such information from online services/tables and join them with the current table.\n",
    "\n",
    "Swift GRBs data will be used to get such information (position and trigger time). \n",
    "(*\"--Why Swift? --Because I had to choose one; next time will be Fermi.\"*)\n",
    "After a search for which website could give me better the information, the [Mission's American website][NASAGRB].\n",
    "Through their service I can easily automate the query, retrieve and parsing process, plus they provide all the relevant information I am looking for (almost) all GRBs.\n",
    "For the records, below is the list of websites I looked into; The list was kindly provided by my colleaghe Milos Kovacevic:\n",
    "\n",
    "* http://www.swift.ac.uk/xrt_positions/\n",
    "* https://heasarc.gsfc.nasa.gov/W3Browse/fermi/fermigbrst.html\n",
    "* https://heasarc.gsfc.nasa.gov/W3Browse/all/batsegrb.html\n",
    "* http://www.astro.caltech.edu/grbox/grbox.php\n",
    "* (**Chosen**) https://swift.gsfc.nasa.gov/archive/grb_table/\n",
    "\n",
    "Data and software we already have (properly working/formatted):\n",
    "\n",
    "* The current BdHNe table is here copied as filename `ibdhne.csv`;\n",
    "* The Perl script to retrieve the table from [Swift GRB service][NASAGRB], called `SwiftGRBsNASA.pl`;\n",
    " * We will execute the script to generate an up-to-date table of GRBs named `SwiftGRBsNASA_table.csv`.\n",
    "\n",
    "[NASAGRB]: https://swift.gsfc.nasa.gov/archive/grb_table/"
   ]
  },
  {
   "cell_type": "code",
   "execution_count": 11,
   "metadata": {
    "collapsed": true
   },
   "outputs": [],
   "source": [
    "import pandas\n",
    "pandas.set_option('display.max_columns',None)"
   ]
  },
  {
   "cell_type": "markdown",
   "metadata": {},
   "source": [
    "## The IBdHNe table"
   ]
  },
  {
   "cell_type": "code",
   "execution_count": 3,
   "metadata": {
    "collapsed": false
   },
   "outputs": [
    {
     "name": "stdout",
     "output_type": "stream",
     "text": [
      "         GRB     designation      z   E_iso instrument    GCN\n",
      "0    050315A  IBdHNe 050315A  1.950    8.32      Swift   3099\n",
      "1    050318A  IBdHNe 050318A  1.440    3.70      Swift   3134\n",
      "2    050319A  IBdHNe 050319A  3.240   20.20      Swift   3119\n",
      "3    050401A  IBdHNe 050401A  2.900   92.00         KW   3179\n",
      "4    050408A  IBdHNe 050408A  1.240   10.80       HETE   3188\n",
      "5    050505A  IBdHNe 050505A  4.270   44.60      Swift   3364\n",
      "6    050525A  IBdHNe 050525A  0.606    2.31         KW   3474\n",
      "7    050730A  IBdHNe 050730A  3.970   42.80      Swift   3715\n",
      "8    050802A  IBdHNe 050802A  1.710    7.46      Swift   3737\n",
      "9    050814A  IBdHNe 050814A  5.300   26.80      Swift   3803\n",
      "10   050820A  IBdHNe 050820A  2.610   39.00         KW   3852\n",
      "11   050922C  IBdHNe 050922C  2.200   19.80         KW   4030\n",
      "12   051109A  IBdHNe 051109A  2.350   18.30         KW   4238\n",
      "13   060108A  IBdHNe 060108A  2.030    1.50      Swift   4445\n",
      "14   060115A  IBdHNe 060115A  3.530   19.00      Swift   4518\n",
      "15   060124A  IBdHNe 060124A  2.296   26.00         KW   4599\n",
      "16   060202A  IBdHNe 060202A  0.783    1.90      Swift   4635\n",
      "17   060206A  IBdHNe 060206A  4.050    3.90      Swift   4697\n",
      "18   060210A  IBdHNe 060210A  3.910  120.00      Swift   4734\n",
      "19   060418A  IBdHNe 060418A  1.490   12.00         KW   4989\n",
      "20   060502A  IBdHNe 060502A  1.510   11.00      Swift   5053\n",
      "21   060510B  IBdHNe 060510B  4.900   66.00      Swift   5107\n",
      "22   060512A  IBdHNe 060512A  2.100    2.38      Swift   5124\n",
      "23   060526A  IBdHNe 060526A  3.210    5.40      Swift   5174\n",
      "24   060605A  IBdHNe 060605A  3.800   10.10      Swift   5231\n",
      "25   060607A  IBdHNe 060607A  3.082   34.00      Swift   5242\n",
      "26   060707A  IBdHNe 060707A  3.430    5.30      Swift   5289\n",
      "27   060708A  IBdHNe 060708A  1.920    2.20      Swift   5295\n",
      "28   060714A  IBdHNe 060714A  2.710   19.00      Swift   5334\n",
      "29   060729A  IBdHNe 060729A  0.540    1.60      Swift   5370\n",
      "..       ...             ...    ...     ...        ...    ...\n",
      "143  140703A  IBdHNe 140703A  3.140    1.72      Fermi  16512\n",
      "144  140907A  IBdHNe 140907A  1.210    2.29      Fermi  16798\n",
      "145  141026A  IBdHNe 141026A  3.350    7.17      Swift  16960\n",
      "146  141109A  IBdHNe 141109A  2.993    5.05         KW  17055\n",
      "147  141121A  IBdHNe 141121A  1.470   14.60         KW  17108\n",
      "148  141221A  IBdHNe 141221A  1.452    1.94      Fermi  17216\n",
      "149  150206A  IBdHNe 150206A  2.087  151.00         KW  17427\n",
      "150  150314A  IBdHNe 150314A  1.758   98.10      Fermi  17579\n",
      "151  150403A  IBdHNe 150403A  2.060   91.00      Fermi  17674\n",
      "152  150514A  IBdHNe 150514A  0.807    1.14      Fermi  17819\n",
      "153  150821A  IBdHNe 150821A  0.755   15.10      Fermi  18190\n",
      "154  150910A  IBdHNe 150910A  1.360   22.30      Swift  18268\n",
      "155  151021A  IBdHNe 151021A  2.330  211.00         KW  18433\n",
      "156  151027A  IBdHNe 151027A  0.810    3.86      Fermi  18492\n",
      "157  151027B  IBdHNe 151027B  4.063   19.10      Swift  18514\n",
      "158  151111A  IBdHNe 151111A  3.500    5.13      Fermi  18582\n",
      "159  151112A  IBdHNe 151112A  4.100   12.40      Swift  18593\n",
      "160  151215A  IBdHNe 151215A  2.590    1.97      Swift  18699\n",
      "161  160121A  IBdHNe 160121A  1.960    2.62      Swift  18919\n",
      "162  160131A  IBdHNe 160131A  0.972   60.40         KW  18974\n",
      "163  160203A  IBdHNe 160203A  3.520   12.40      Swift  18998\n",
      "164  160227A  IBdHNe 160227A  2.380    5.69      Swift  19106\n",
      "165  160509A  IBdHNe 160509A  1.170   82.30      Fermi  19411\n",
      "166  160623A  IBdHNe 160623A  0.367   23.30         KW  19554\n",
      "167  160625B  IBdHNe 160625B  1.406  443.00      Fermi  19587\n",
      "168  160804A  IBdHNe 160804A  0.736    2.53      Fermi  19769\n",
      "169  161017A  IBdHNe 161017A  2.013    7.79      Fermi  20068\n",
      "170  161023A  IBdHNe 161023A  2.708   79.80         KW  20111\n",
      "171  161108A  IBdHNe 161108A  1.159    1.71      Swift  20151\n",
      "172  161117A  IBdHNe 161117A  1.549   24.80      Fermi  20192\n",
      "\n",
      "[173 rows x 6 columns]\n"
     ]
    }
   ],
   "source": [
    "ibd = pandas.read_csv('data.csv',sep=';')\n",
    "print ibd"
   ]
  },
  {
   "cell_type": "markdown",
   "metadata": {},
   "source": [
    "## Swift GRBs table"
   ]
  },
  {
   "cell_type": "code",
   "execution_count": 8,
   "metadata": {
    "collapsed": false
   },
   "outputs": [],
   "source": [
    "grbstable = 'SwiftGRBsNASA_table.csv'\n",
    "import os\n",
    "if not os.path.exists(grbstable):\n",
    "    with open(grbstable,'w') as fpout:\n",
    "        import subprocess\n",
    "        import shlex\n",
    "        ret = subprocess.check_call( shlex.split('perl SwiftGRBsNASA.pl'), stdout=fpout, stderr=subprocess.STDOUT)"
   ]
  },
  {
   "cell_type": "code",
   "execution_count": 18,
   "metadata": {
    "collapsed": false
   },
   "outputs": [
    {
     "name": "stdout",
     "output_type": "stream",
     "text": [
      "          GRB Time|[UT] Trigger|Number BAT RA|(J2000) BAT Dec|(J2000)  \\\n",
      "130   151001B  18:29:36         657321        336.974          64.637   \n",
      "120   151107A  17:19:36         662757        217.139         -59.680   \n",
      "96    160220A  01:25:25         674670        236.942         -18.539   \n",
      "1117   041223  14:06:18         100585        100.204         -37.068   \n",
      "426   120811A  02:35:18         530581        257.184         -22.735   \n",
      "911    070306  16:41:28         263361        148.154          10.440   \n",
      "632   100302A  19:53:06         414592        195.504          74.568   \n",
      "797    080605  23:47:57         313299        262.130           4.010   \n",
      "209   141102A  12:51:40         617313        208.614         -47.100   \n",
      "570   101117B  19:13:23         438675        172.991         -72.651   \n",
      "\n",
      "     BAT 90%|Error Radius|[arcmin] BAT T90|[sec]  \\\n",
      "130                            2.1           109   \n",
      "120                            2.7           n/a   \n",
      "96                             1.8           8.3   \n",
      "1117                           1.0       109.100   \n",
      "426                            2.6           166   \n",
      "911                            2.7       209.500   \n",
      "632                            1.7          17.9   \n",
      "797                            1.0            20   \n",
      "209                              4           2.5   \n",
      "570                            1.1           5.2   \n",
      "\n",
      "     BAT Fluence|(15-150 keV)|[10-7 erg/cm2] XRT RA|(J2000) XRT Dec|(J2000)  \\\n",
      "130                                       14    22:27:21.38      64:41:37.5   \n",
      "120                                      n/a            n/a             n/a   \n",
      "96                                       5.2    15:47:48.66     -18:33:57.7   \n",
      "1117                                  167.00            n/a             n/a   \n",
      "426                                       11    17:08:39.70     -22:42:38.0   \n",
      "911                                    53.80    09:52:23.29      10:28:55.5   \n",
      "632                                      3.1    13:02:03.87      74:35:24.5   \n",
      "797                                      133    17:28:30.05      04:00:56.4   \n",
      "209                                      n/a            n/a             n/a   \n",
      "570                                       11    11:32:00.31     -72:39:46.1   \n",
      "\n",
      "     XRT 90%|Error Radius|[arcsec] XRT Time to First|Observation|[sec]  \\\n",
      "130                            1.6                              138.90   \n",
      "120                            n/a                                 n/a   \n",
      "96                             1.8                             3238.13   \n",
      "1117                           n/a                                 n/a   \n",
      "426                            2.8                                 n/a   \n",
      "911                            1.4                              153.20   \n",
      "632                            1.5                              125.47   \n",
      "797                            1.5                               90.39   \n",
      "209                            n/a                                 n/a   \n",
      "570                            1.4                               77.00   \n",
      "\n",
      "     XRT Early Flux|(0.3-10 keV)|[10-11 erg/cm2/s] UVOT RA|(J2000)  \\\n",
      "130                                            189             n/a   \n",
      "120                                            n/a             n/a   \n",
      "96                                             n/a             n/a   \n",
      "1117                                           n/a             n/a   \n",
      "426                                            n/a             n/a   \n",
      "911                                           1280             n/a   \n",
      "632                                            196             n/a   \n",
      "797                                            175     17:28:30.05   \n",
      "209                                            n/a             n/a   \n",
      "570                                            n/a     11:32:00.54   \n",
      "\n",
      "     UVOT Dec|(J2000) UVOT 90%|Error Radius|[arcsec]  \\\n",
      "130               n/a                            n/a   \n",
      "120               n/a                            n/a   \n",
      "96                n/a                            n/a   \n",
      "1117              n/a                            n/a   \n",
      "426               n/a                            n/a   \n",
      "911               n/a                            n/a   \n",
      "632               n/a                            n/a   \n",
      "797       04:00:55.97                            0.5   \n",
      "209               n/a                            n/a   \n",
      "570       -72:39:45.9                           0.43   \n",
      "\n",
      "     UVOT Time to|First Observation|[sec] UVOT Magnitude  \\\n",
      "130                                   148         V>20.2   \n",
      "120                                   n/a            n/a   \n",
      "96                                   4110         V>19.4   \n",
      "1117                                  n/a            n/a   \n",
      "426                                  5627         V>19.1   \n",
      "911                                   146         V>20.5   \n",
      "632                                   132        V>18.82   \n",
      "797                                    82        V=18.53   \n",
      "209                                   n/a            n/a   \n",
      "570                                    82         V>17.9   \n",
      "\n",
      "                           Other Observatory Detections  \\\n",
      "130                                          Konus-Wind   \n",
      "120                                                 NaN   \n",
      "96                                          Fermi (GBM)   \n",
      "1117                              VLT J=19.5 @ 16.2 hrs   \n",
      "426                                                 NaN   \n",
      "911                                WHT (4.2m), NOT, VLT   \n",
      "632                            Lulin (1m), Gemini-North   \n",
      "797   Tautenburg (1.34m), Liverpool Telescope, VLT, ...   \n",
      "209                       Fermi (GBM & LAT), Konus-Wind   \n",
      "570                                                 NaN   \n",
      "\n",
      "                                      Redshift Host Galaxy  \\\n",
      "130                                        NaN         NaN   \n",
      "120                                        NaN         NaN   \n",
      "96                                         NaN         NaN   \n",
      "1117                                       NaN         NaN   \n",
      "426                                        NaN         NaN   \n",
      "911   possible redshift:|1.497 (VLT: emission)         NaN   \n",
      "632           4.813 (Gemini-North: absorption)         NaN   \n",
      "797                   1.6398 (VLT: absorption)         NaN   \n",
      "209                                        NaN         NaN   \n",
      "570                                        NaN         NaN   \n",
      "\n",
      "                                               Comments  \\\n",
      "130                                                 NaN   \n",
      "120   Due to a Sun observing constraint, Swift canno...   \n",
      "96    Due to an observing constraint, Swift did not ...   \n",
      "1117             TOO at 4.5 hours|UVOT:  no observation   \n",
      "426   While the BAT lightcurve and spectral results ...   \n",
      "911                                  UVOT: no detection   \n",
      "632                                                 NaN   \n",
      "797                                                 NaN   \n",
      "209   A Swift TOO is not possible because the source...   \n",
      "570                                                 NaN   \n",
      "\n",
      "                                             References  \n",
      "130   BAT: GCN 18374| GCN 18382|XRT: GCN 18374| GCN ...  \n",
      "120               BAT: GCN 18564| GCN 18568| GCN 18571|  \n",
      "96    BAT: GCN 19023| GCN 19038|XRT: GCN 19024| GCN ...  \n",
      "1117  BAT: GCN 2898| SB table 2/17/05| TS table 9/13...  \n",
      "426   BAT: GCN 13618| GCN 13633|XRT: GCN 13641| Evan...  \n",
      "911   BAT: GCN 6169| GCN 6173| arXiv:0707.4626|XRT: ...  \n",
      "632   BAT: GCN 10458| GCN 10462|XRT: GCN 10458| GCN ...  \n",
      "797   BAT: GCN 7828| GCN 7839| GCN 7841|XRT: GCN 782...  \n",
      "209                                     BAT: GCN 17020|  \n",
      "570   BAT: GCN 11411| GCN 11414|XRT: GCN 11411| GCN ...  \n"
     ]
    }
   ],
   "source": [
    "swf = pandas.read_csv(grbstable, sep=';')\n",
    "print swf.sample(10)"
   ]
  },
  {
   "cell_type": "markdown",
   "metadata": {},
   "source": [
    "Regarding our goal -- to recover position and trigger time for each GRB -- we promptly see the `Time|[UT]` column, *RA*, *Dec* and the *error radius* given by `BAT`, `XRT` and `UVOT` instruments.\n",
    "\n",
    "The *Time* column alone is incomplete since it does not inform the day the event happened; but this information is easily extracted from the GRB name itself.\n",
    "\n",
    "Positional information comes in three flavors (*BAT*, *XRT*, *UVOT*), where *error radius* is the relevant information to decide which one to use; *BAT* has the worse precision (~`arcmin`) but has measurements for every GRB, while *XRT* and *UVOT* have much better measurements (~`arcsec`) but are followed less events."
   ]
  },
  {
   "cell_type": "markdown",
   "metadata": {},
   "source": [
    "By all means, let us work a little bit over the data in table itself.\n",
    "For instance, let us handle the *Not Availables* (`n/a`) and then look some stats."
   ]
  },
  {
   "cell_type": "markdown",
   "metadata": {},
   "source": [
    "### GRB table pre-processing: fixing datatypes and finding nulls"
   ]
  },
  {
   "cell_type": "code",
   "execution_count": 173,
   "metadata": {
    "collapsed": false
   },
   "outputs": [
    {
     "name": "stdout",
     "output_type": "stream",
     "text": [
      "GRB                                              object\n",
      "Time|[UT]                                        object\n",
      "Trigger|Number                                   object\n",
      "BAT RA|(J2000)                                   object\n",
      "BAT Dec|(J2000)                                  object\n",
      "BAT 90%|Error Radius|[arcmin]                    object\n",
      "BAT T90|[sec]                                    object\n",
      "BAT Fluence|(15-150 keV)|[10-7 erg/cm2]          object\n",
      "XRT RA|(J2000)                                   object\n",
      "XRT Dec|(J2000)                                  object\n",
      "XRT 90%|Error Radius|[arcsec]                    object\n",
      "XRT Time to First|Observation|[sec]              object\n",
      "XRT Early Flux|(0.3-10 keV)|[10-11 erg/cm2/s]    object\n",
      "UVOT RA|(J2000)                                  object\n",
      "UVOT Dec|(J2000)                                 object\n",
      "UVOT 90%|Error Radius|[arcsec]                   object\n",
      "UVOT Time to|First Observation|[sec]             object\n",
      "UVOT Magnitude                                   object\n",
      "Other Observatory Detections                     object\n",
      "Redshift                                         object\n",
      "Host Galaxy                                      object\n",
      "Comments                                         object\n",
      "References                                       object\n",
      "dtype: object\n"
     ]
    }
   ],
   "source": [
    "# First, let's have a glance on columns values; let's try to figure out which one has \"nulls\".\n",
    "#\n",
    "# One way of doing this is by looking the frequency of values -- if a given value is two frequent, probably \n",
    "# that is the value is being used as 'NA'(i.e, Null) for that column (this comes with the assumption that such \n",
    "# table has a somewhat broad distribution of values);\n",
    "#\n",
    "# Before going further, what are columns datatypes?\n",
    "print swf.dtypes"
   ]
  },
  {
   "cell_type": "code",
   "execution_count": 175,
   "metadata": {
    "collapsed": false
   },
   "outputs": [
    {
     "name": "stdout",
     "output_type": "stream",
     "text": [
      "  BAT 90%|Error Radius|[arcmin] BAT Dec|(J2000)  \\\n",
      "0                           1.0         -26.667   \n",
      "1                           1.1         -44.177   \n",
      "2                           1.2          13.039   \n",
      "3                           1.8           9.139   \n",
      "4                           1.7         -26.146   \n",
      "\n",
      "  BAT Fluence|(15-150 keV)|[10-7 erg/cm2] BAT RA|(J2000) BAT T90|[sec]  \\\n",
      "0                                     n/a        241.273           n/a   \n",
      "1                                      14        144.521            48   \n",
      "2                                      13        282.338            64   \n",
      "3                                      12        120.198          48.0   \n",
      "4                                      11        270.992          11.0   \n",
      "\n",
      "                                            Comments      GRB  \\\n",
      "0                                 UVOT: no detection  150821A   \n",
      "1               XRT: no detection|UVOT: no detection   071129   \n",
      "2  No AT slew (Earth limb constraint)|UVOT: no de...  110808A   \n",
      "3                        No AT slew (Sun constraint)  121102A   \n",
      "4  Due to an observing constraint, Swift did not ...  150428B   \n",
      "\n",
      "                                         Host Galaxy  \\\n",
      "0                                 NOT: possible host   \n",
      "1                                   Ks=19.5 (Subaru)   \n",
      "2  NOT, Magellan, Gemini-South, MPI/ESO (2.2m), T...   \n",
      "3              UVW2 = 23.4 (Swift-UVOT: likely host)   \n",
      "4                   Possible: IC 328 (spiral & blue)   \n",
      "\n",
      "  Other Observatory Detections                     Redshift  \\\n",
      "0                  Fermi (GBM)      1.968 (VLT: absorption)   \n",
      "1                   Konus-Wind  1.44 (Magellan: absorption)   \n",
      "2           Konus-Wind, Suzaku     0.089 (Gemini: emission)   \n",
      "3      Fermi (GBM), Konus-Wind     0.3984 (VLT: absorption)   \n",
      "4                       Suzaku      1.505 (VLT: absorption)   \n",
      "\n",
      "                                          References Time|[UT]  \\\n",
      "0  BAT: GCN 16878| GCN 16892|XRT: GCN 16878| GCN ...       n/a   \n",
      "1  BAT: GCN 12288| GCN 12292|XRT: GCN 12288| GCN ...  18:28:02   \n",
      "2  BAT: GCN 19833| GCN 19844|XRT: GCN 19833| GCN ...  03:03:32   \n",
      "3  BAT: GCN 14181| GCN 14186|XRT: GCN 14183| GCN ...  22:07:25   \n",
      "4  BAT: GCN 14223| GCN 14229| GCN 14240| GCN 1424...  03:06:08   \n",
      "\n",
      "    Trigger|Number UVOT 90%|Error Radius|[arcsec] UVOT Dec|(J2000)  \\\n",
      "0            BATSS                            n/a              n/a   \n",
      "1  Ground Analysis                            0.5       36:18:08.8   \n",
      "2           146129                            0.6       15:33:02.3   \n",
      "3           305011                           0.50      -44:09:29.6   \n",
      "4           173904                           0.43      -23:30:04.1   \n",
      "\n",
      "  UVOT Magnitude UVOT RA|(J2000) UVOT Time to|First Observation|[sec]  \\\n",
      "0            n/a             n/a                                  n/a   \n",
      "1         V>20.1     20:37:01.80                                   82   \n",
      "2         V>20.3     23:32:48.53                                   78   \n",
      "3         V>20.0     15:40:02.29                                   75   \n",
      "4         V>19.9    19:42:40.049                                   84   \n",
      "\n",
      "  XRT 90%|Error Radius|[arcsec] XRT Dec|(J2000)  \\\n",
      "0                           1.4             n/a   \n",
      "1                           n/a     -68:09:40.2   \n",
      "2                           1.5      16:53:26.5   \n",
      "3                           1.6     -51:10:59.2   \n",
      "4                           1.7     -19:09:52.2   \n",
      "\n",
      "  XRT Early Flux|(0.3-10 keV)|[10-11 erg/cm2/s] XRT RA|(J2000)  \\\n",
      "0                                           n/a            n/a   \n",
      "1                                            10    11:45:33.04   \n",
      "2                                         0.999    12:41:54.72   \n",
      "3                                           126    17:36:44.53   \n",
      "4                                           130    01:37:07.66   \n",
      "\n",
      "  XRT Time to First|Observation|[sec]  \n",
      "0                                 n/a  \n",
      "1                                  78  \n",
      "2                               61.77  \n",
      "3                               91.40  \n",
      "4                              130.50  \n"
     ]
    }
   ],
   "source": [
    "# So, what are the frequency of values we find at each column?\n",
    "#\n",
    "# I am assuming that (1) few (correct) values are going to show up more than once, simply because we are dealing\n",
    "# with real number and free-form comments; in principle, there is no restriction on the values.\n",
    "# Following that, I assume that Null values will be among the most frequent values if not the only ones in the\n",
    "# columns they occur.\n",
    "freqs = pandas.DataFrame( {col:swf[col].value_counts().head().index.values for col in swf.columns} )\n",
    "print freqs"
   ]
  },
  {
   "cell_type": "markdown",
   "metadata": {},
   "source": [
    "We see then that some columns do present Null values and they are all '**n/a**'.\n",
    "We should be able to mask them very easily."
   ]
  },
  {
   "cell_type": "code",
   "execution_count": 186,
   "metadata": {
    "collapsed": false
   },
   "outputs": [
    {
     "name": "stdout",
     "output_type": "stream",
     "text": [
      "  BAT 90%|Error Radius|[arcmin] BAT Dec|(J2000)  \\\n",
      "0                           1.0          36.669   \n",
      "1                           1.1         -44.177   \n",
      "2                           1.2         -26.146   \n",
      "3                           1.8          49.838   \n",
      "4                           1.7           9.139   \n",
      "\n",
      "  BAT Fluence|(15-150 keV)|[10-7 erg/cm2] BAT RA|(J2000) BAT T90|[sec]  \\\n",
      "0                                      13        312.599            48   \n",
      "1                                      14        241.273            64   \n",
      "2                                      12        355.412          48.0   \n",
      "3                                      11        270.992          11.0   \n",
      "4                                      15         92.387           7.6   \n",
      "\n",
      "                                            Comments      GRB  \\\n",
      "0                                 UVOT: no detection  150821A   \n",
      "1               XRT: no detection|UVOT: no detection   071129   \n",
      "2  No AT slew (Earth limb constraint)|UVOT: no de...  110808A   \n",
      "3                        No AT slew (Sun constraint)  121102A   \n",
      "4  Due to an observing constraint, Swift did not ...  150428B   \n",
      "\n",
      "                                         Host Galaxy  \\\n",
      "0                                 NOT: possible host   \n",
      "1                                   Ks=19.5 (Subaru)   \n",
      "2  NOT, Magellan, Gemini-South, MPI/ESO (2.2m), T...   \n",
      "3              UVW2 = 23.4 (Swift-UVOT: likely host)   \n",
      "4                   Possible: IC 328 (spiral & blue)   \n",
      "\n",
      "  Other Observatory Detections                     Redshift  \\\n",
      "0                  Fermi (GBM)      1.968 (VLT: absorption)   \n",
      "1                   Konus-Wind  1.44 (Magellan: absorption)   \n",
      "2           Konus-Wind, Suzaku     0.089 (Gemini: emission)   \n",
      "3      Fermi (GBM), Konus-Wind     0.3984 (VLT: absorption)   \n",
      "4                       Suzaku      1.505 (VLT: absorption)   \n",
      "\n",
      "                                          References Time|[UT]  \\\n",
      "0  BAT: GCN 16878| GCN 16892|XRT: GCN 16878| GCN ...  17:25:22   \n",
      "1  BAT: GCN 12288| GCN 12292|XRT: GCN 12288| GCN ...  22:07:25   \n",
      "2  BAT: GCN 19833| GCN 19844|XRT: GCN 19833| GCN ...  18:28:02   \n",
      "3  BAT: GCN 14181| GCN 14186|XRT: GCN 14183| GCN ...  13:57:11   \n",
      "4  BAT: GCN 14223| GCN 14229| GCN 14240| GCN 1424...  03:06:08   \n",
      "\n",
      "    Trigger|Number UVOT 90%|Error Radius|[arcsec] UVOT Dec|(J2000)  \\\n",
      "0            BATSS                            0.5      -58:03:34.2   \n",
      "1  Ground Analysis                            0.6       09:59:56.7   \n",
      "2           146129                           0.44      -46:23:43.7   \n",
      "3           305011                           0.52      00:16:52.18   \n",
      "4           173904                           0.50      -66:31:12.3   \n",
      "\n",
      "  UVOT Magnitude UVOT RA|(J2000) UVOT Time to|First Observation|[sec]  \\\n",
      "0         V>20.3     00:25:37.27                                  137   \n",
      "1         V>20.1     03:18:51.15                                   82   \n",
      "2         V>19.6     14:46:31.14                                   78   \n",
      "3         V>19.7    02:56:13.467                                  110   \n",
      "4         V>19.5     08:37:54.66                                   75   \n",
      "\n",
      "  XRT 90%|Error Radius|[arcsec] XRT Dec|(J2000)  \\\n",
      "0                           1.4      31:46:42.5   \n",
      "1                           1.5        65:56:20   \n",
      "2                           1.6     -59:46:54.5   \n",
      "3                           1.7     -20:10:55.5   \n",
      "4                           1.8      44:50:20.0   \n",
      "\n",
      "  XRT Early Flux|(0.3-10 keV)|[10-11 erg/cm2/s] XRT RA|(J2000)  \\\n",
      "0                                            10    23:40:17.08   \n",
      "1                                        <0.008     23:53:53.0   \n",
      "2                                           126    09:58:56.07   \n",
      "3                                           110    16:45:21.57   \n",
      "4                                          73.4    19:35:58.47   \n",
      "\n",
      "  XRT Time to First|Observation|[sec]  \n",
      "0                                  79  \n",
      "1                               102.0  \n",
      "2                               159.7  \n",
      "3                              127308  \n",
      "4                              310326  \n"
     ]
    }
   ],
   "source": [
    "# Mask 'n/a' values\n",
    "for col in swf.columns:\n",
    "    swf[col].replace('n/a',None, inplace=True)\n",
    "freqs = pandas.DataFrame( {col:swf[col].value_counts().head().index.values for col in swf.columns} )\n",
    "print freqs"
   ]
  },
  {
   "cell_type": "markdown",
   "metadata": {},
   "source": [
    "Nulls are properly flagged/masked now. This is important because we can now handle the data with confidence."
   ]
  },
  {
   "cell_type": "code",
   "execution_count": 141,
   "metadata": {
    "collapsed": false
   },
   "outputs": [
    {
     "name": "stdout",
     "output_type": "stream",
     "text": [
      "          day         time\n",
      "0  2017-03-25  07:56:57.95\n",
      "1  2017-03-18     15:27:52\n",
      "2  2017-03-18     12:11:56\n",
      "3  2017-03-17     09:45:59\n",
      "4  2017-03-11     08:08:42\n",
      "5  2017-03-07     20:24:21\n",
      "6  2017-03-06     07:06:12\n",
      "7  2017-02-08     22:33:38\n",
      "8  2017-02-08     18:11:16\n",
      "9  2017-02-06     21:57:25\n"
     ]
    }
   ],
   "source": [
    "# (2) let's cast the columns (at least the ones we care about)\n",
    "#\n",
    "# Trigger time; we have to merge the information (Year-Month-Day) from column 'GRB' with UT time from 'Time'\n",
    "import re\n",
    "rec = re.compile('(\\d+)?',re.IGNORECASE)\n",
    "dt = pandas.DataFrame()\n",
    "dt['day'] = swf.GRB.map(lambda s:'20{0}-{1}-{2}'.format(*re.findall('.{1,2}',rec.match(s).group(1))))\n",
    "dt['time'] = swf['Time|[UT]']\n",
    "print dt.head(10)"
   ]
  },
  {
   "cell_type": "code",
   "execution_count": 147,
   "metadata": {
    "collapsed": false
   },
   "outputs": [
    {
     "data": {
      "text/plain": [
       "True"
      ]
     },
     "execution_count": 147,
     "metadata": {},
     "output_type": "execute_result"
    }
   ],
   "source": [
    "dt['tt'] = pandas.to_datetime( dt.apply(lambda x:' '.join([x.day,x.time]), axis=1), yearfirst=1, errors='coerce')\n",
    "# option 'coerce' enables the processing to complete even if some value was not able to be converted, in such cases\n",
    "# 'NaT' (\"null\") is placed whenever convertion fails.\n",
    "#\n",
    "# That said, let's check whether the was any problem during conversion by verifying for Nulls\n",
    "any(dt['tt'].isnull())"
   ]
  },
  {
   "cell_type": "code",
   "execution_count": null,
   "metadata": {
    "collapsed": true
   },
   "outputs": [],
   "source": [
    "# transform string 'na' values into pandas'\n"
   ]
  }
 ],
 "metadata": {
  "kernelspec": {
   "display_name": "Python 2",
   "language": "python",
   "name": "python2"
  },
  "language_info": {
   "codemirror_mode": {
    "name": "ipython",
    "version": 2
   },
   "file_extension": ".py",
   "mimetype": "text/x-python",
   "name": "python",
   "nbconvert_exporter": "python",
   "pygments_lexer": "ipython2",
   "version": "2.7.13"
  }
 },
 "nbformat": 4,
 "nbformat_minor": 2
}
