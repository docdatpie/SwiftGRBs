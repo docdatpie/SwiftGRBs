{
 "cells": [
  {
   "cell_type": "markdown",
   "metadata": {},
   "source": [
    "# Adding information to BdHNe table\n",
    "\n",
    "One of these days I published the online version of ICRANet Binary-driven Hyper-Novae table of Gamma-Ray Bursts (GRB) at the (BSDC/VO)[http://vo.bsdc.icranet.org] website; the table: http://vo.bsdc.icranet.org/bdhne/q/web/form.\n",
    "The (current) first version of the table contains exactly what is being published in the article (Ruffini et al, in preparation), which is:\n",
    "\n",
    "* GRB (id): the standard name for GRBs (*YYMMDD*[A-Z]);\n",
    "* Designation: as proposed by the authors of the article;\n",
    "* z: redshift;\n",
    "* E_iso: the energy computedby the authors after their model;\n",
    "* Instrument: observatory from where data was used;\n",
    "* GCN: the GCN corresponding to the event.\n",
    "\n",
    "What I'm going to do now is to add position (Right Ascension and Declination) and trigger time of those events.\n",
    "To do so, I should retrieve such information from online services/tables and join them with the current table.\n",
    "\n",
    "Swift GRBs data will be used to get such information (position and trigger time). \n",
    "(*\"--Why Swift? --Because I had to choose one; next time will be Fermi.\"*)\n",
    "After a search for which website could give me better the information, the [Mission's American website][NASAGRB].\n",
    "Through their service I can easily automate the query, retrieve and parsing process, plus they provide all the relevant information I am looking for (almost) all GRBs.\n",
    "For the records, below is the list of websites I looked into; The list was kindly provided by my colleaghe Milos Kovacevic:\n",
    "\n",
    "* http://www.swift.ac.uk/xrt_positions/\n",
    "* https://heasarc.gsfc.nasa.gov/W3Browse/fermi/fermigbrst.html\n",
    "* https://heasarc.gsfc.nasa.gov/W3Browse/all/batsegrb.html\n",
    "* http://www.astro.caltech.edu/grbox/grbox.php\n",
    "* (**Chosen**) https://swift.gsfc.nasa.gov/archive/grb_table/\n",
    "\n",
    "Data and software we already have (properly working/formatted):\n",
    "\n",
    "* The current BdHNe table is here copied as filename `ibdhne.csv`;\n",
    "* The Perl script to retrieve the table from [Swift GRB service][NASAGRB], called `SwiftGRBsNASA.pl`;\n",
    " * We will execute the script to generate an up-to-date table of GRBs named `SwiftGRBsNASA_table.csv`.\n",
    "\n",
    "[NASAGRB]: https://swift.gsfc.nasa.gov/archive/grb_table/"
   ]
  },
  {
   "cell_type": "code",
   "execution_count": null,
   "metadata": {
    "collapsed": true
   },
   "outputs": [],
   "source": []
  }
 ],
 "metadata": {
  "kernelspec": {
   "display_name": "Python 2",
   "language": "python",
   "name": "python2"
  },
  "language_info": {
   "codemirror_mode": {
    "name": "ipython",
    "version": 2
   },
   "file_extension": ".py",
   "mimetype": "text/x-python",
   "name": "python",
   "nbconvert_exporter": "python",
   "pygments_lexer": "ipython2",
   "version": "2.7.13"
  }
 },
 "nbformat": 4,
 "nbformat_minor": 2
}
